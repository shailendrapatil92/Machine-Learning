{
 "cells": [
  {
   "cell_type": "markdown",
   "metadata": {},
   "source": [
    "# Import Statements"
   ]
  },
  {
   "cell_type": "code",
   "execution_count": 6,
   "metadata": {
    "collapsed": true
   },
   "outputs": [],
   "source": [
    "import pandas as pd\n",
    "import numpy as np\n",
    "import csv"
   ]
  },
  {
   "cell_type": "code",
   "execution_count": 7,
   "metadata": {
    "collapsed": true
   },
   "outputs": [],
   "source": [
    "vocabList = None"
   ]
  },
  {
   "cell_type": "markdown",
   "metadata": {},
   "source": [
    "# Import topics data "
   ]
  },
  {
   "cell_type": "code",
   "execution_count": 8,
   "metadata": {
    "collapsed": false
   },
   "outputs": [],
   "source": [
    "data_topics_csv = pd.read_csv(\"reuters/all-topics-strings.lc.txt\", header = None)\n",
    "data_topics = np.matrix(data_topics_csv)\n",
    "\n",
    "for ptr in range(0, data_topics.shape[0]):\n",
    "    data_topics[ptr, 0] = data_topics[ptr, 0].strip()"
   ]
  },
  {
   "cell_type": "markdown",
   "metadata": {},
   "source": [
    "# Save Vocab Consolidated"
   ]
  },
  {
   "cell_type": "code",
   "execution_count": 9,
   "metadata": {
    "collapsed": false
   },
   "outputs": [
    {
     "name": "stdout",
     "output_type": "stream",
     "text": [
      "Feature Vector Size:  3711\n"
     ]
    }
   ],
   "source": [
    "for topic in data_topics[:,0]:\n",
    "    vocab_file = open('vocab/Vocab'+str(topic[0,0])+'.csv', 'r')\n",
    "    vocab = vocab_file.readline().strip().replace('\\r\\n','')\n",
    "    vocab = vocab.split(',')[1:]\n",
    "    \n",
    "    if len(vocab) >= 1:\n",
    "        if vocabList == None:\n",
    "            vocabList = vocab\n",
    "        else:\n",
    "            for v in vocab:\n",
    "                if v not in vocabList:\n",
    "                    vocabList += [v]\n",
    "        \n",
    "        vocab_file.close()\n",
    "        \n",
    "vocab_output = open('vocab_main.csv', 'w')\n",
    "writer = csv.writer(vocab_output)\n",
    "writer.writerow(vocabList)\n",
    "vocab_output.close()\n",
    "\n",
    "print \"Feature Vector Size: \", str(len(vocabList))\n"
   ]
  },
  {
   "cell_type": "code",
   "execution_count": null,
   "metadata": {
    "collapsed": true
   },
   "outputs": [],
   "source": []
  }
 ],
 "metadata": {
  "anaconda-cloud": {},
  "kernelspec": {
   "display_name": "Python [default]",
   "language": "python",
   "name": "python2"
  },
  "language_info": {
   "codemirror_mode": {
    "name": "ipython",
    "version": 2
   },
   "file_extension": ".py",
   "mimetype": "text/x-python",
   "name": "python",
   "nbconvert_exporter": "python",
   "pygments_lexer": "ipython2",
   "version": "2.7.12"
  }
 },
 "nbformat": 4,
 "nbformat_minor": 1
}
